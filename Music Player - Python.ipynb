{
 "cells": [
  {
   "cell_type": "code",
   "execution_count": null,
   "metadata": {},
   "outputs": [],
   "source": [
    "import pygame\n",
    "import tkinter as tkr\n",
    "from tkinter.filedialog import askdirectory\n",
    "import os"
   ]
  },
  {
   "cell_type": "code",
   "execution_count": null,
   "metadata": {},
   "outputs": [],
   "source": [
    "musicplayer = tkr.Tk()\n",
    "musicplayer.title(\"Music Player\")\n",
    "musicplayer.geometry(\"450x350\")"
   ]
  },
  {
   "cell_type": "code",
   "execution_count": null,
   "metadata": {},
   "outputs": [],
   "source": [
    "directory = askdirectory()\n",
    "os.chdir(directory)\n",
    "songlist = os.listdir()\n",
    "playlist = tkr.Listbox(musicplayer, font =\"Helvetica 12 bold\", bg=\"yellow\",selectmode= tkr.SINGLE)"
   ]
  },
  {
   "cell_type": "code",
   "execution_count": null,
   "metadata": {},
   "outputs": [],
   "source": [
    "for item in songlist:\n",
    "    pos = 0\n",
    "    playlist.insert(pos, item)\n",
    "    pos = pos + 1"
   ]
  },
  {
   "cell_type": "code",
   "execution_count": null,
   "metadata": {},
   "outputs": [],
   "source": [
    "pygame.init()\n",
    "pygame.mixer.init()"
   ]
  },
  {
   "cell_type": "code",
   "execution_count": null,
   "metadata": {},
   "outputs": [],
   "source": [
    "def play():\n",
    "    pygame.mixer.music.load(playlist.get(tkr.ACTIVE))\n",
    "    var.set(playlist.get(tkr.ACTIVE))\n",
    "    pygame.mixer.music.play()"
   ]
  },
  {
   "cell_type": "code",
   "execution_count": null,
   "metadata": {},
   "outputs": [],
   "source": [
    "def ExitMusicPlayer():\n",
    "    pygame.mixer.music.stop()\n",
    "\n",
    "def pause():\n",
    "    pygame.mixer.music.pause()\n",
    "\n",
    "def unpause():\n",
    "    pygame.mixer.music.unpause()"
   ]
  },
  {
   "cell_type": "code",
   "execution_count": null,
   "metadata": {},
   "outputs": [],
   "source": [
    "Button1 = tkr.Button(musicplayer,width=5,height=3, font=\"Helvetica 12 bold\",text=\"PLAY\",command=play,bg=\"red\",fg=\"white\")\n",
    "Button2 = tkr.Button(musicplayer,width=5,height=3, font=\"Helvetica 12 bold\",text=\"STOP\",command=ExitMusicPlayer,bg=\"purple\",fg=\"white\")\n",
    "Button3 = tkr.Button(musicplayer,width=5,height=3, font=\"Helvetica 12 bold\",text=\"PAUSE\",command=pause,bg=\"green\",fg=\"white\")\n",
    "Button4 = tkr.Button(musicplayer,width=5,height=3, font=\"Helvetica 12 bold\",text=\"UNPAUSE\",command=unpause,bg=\"blue\",fg=\"white\")"
   ]
  },
  {
   "cell_type": "code",
   "execution_count": null,
   "metadata": {},
   "outputs": [],
   "source": [
    "var = tkr.StringVar()\n",
    "songtitle = tkr.Label(musicplayer, font=\"Helvetica 12 bold\", textvariable=var)"
   ]
  },
  {
   "cell_type": "code",
   "execution_count": null,
   "metadata": {},
   "outputs": [],
   "source": [
    "songtitle.pack()\n",
    "Button1.pack(fill=\"x\")\n",
    "Button2.pack(fill=\"x\")\n",
    "Button3.pack(fill=\"x\")\n",
    "Button4.pack(fill=\"x\")\n",
    "playlist.pack(fill=\"both\",expand=\"yes\")"
   ]
  },
  {
   "cell_type": "code",
   "execution_count": null,
   "metadata": {},
   "outputs": [],
   "source": [
    "musicplayer.mainloop()"
   ]
  }
 ],
 "metadata": {
  "kernelspec": {
   "display_name": "Python 3",
   "language": "python",
   "name": "python3"
  },
  "language_info": {
   "codemirror_mode": {
    "name": "ipython",
    "version": 3
   },
   "file_extension": ".py",
   "mimetype": "text/x-python",
   "name": "python",
   "nbconvert_exporter": "python",
   "pygments_lexer": "ipython3",
   "version": "3.8.5"
  }
 },
 "nbformat": 4,
 "nbformat_minor": 4
}
